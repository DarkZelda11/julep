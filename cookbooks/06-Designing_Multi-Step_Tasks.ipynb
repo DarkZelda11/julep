{
 "cells": [
  {
   "metadata": {},
   "cell_type": "markdown",
   "source": [
    "<div align=\"center\">\n",
    "    <img src=\"https://socialify.git.ci/julep-ai/julep/image?description=1&descriptionEditable=Build%20AI%20agents%20and%20workflows%20with%20a%20simple%20API&font=Source%20Code%20Pro&logo=https%3A%2F%2Fraw.githubusercontent.com%2Fjulep-ai%2Fjulep%2Fdev%2F.github%2Fjulep-logo.svg&owner=1&pattern=Solid&stargazers=1&theme=Auto\" alt=\"julep\" width=\"640\" height=\"320\" />\n",
    "</div>\n",
    "\n",
    "## Task Definition: Designing Multi-Step Tasks using Brave Search Integration\n",
    "\n",
    "### Overview\n",
    "\n",
    "\n",
    "\n",
    "### Task Flow \n",
    "\n",
    "1. **Input**: \n",
    "   - User provides a topic for the three research questions to be based on\n",
    "\n",
    "2. **Tool Call**:\n",
    "   - Preforms a web search for each of the question\n",
    "\n",
    "3. **Evaluate**:\n",
    "   - Extract relevant information \n",
    "\n",
    "4. **Conditional Logic**:\n",
    "   - Check to make sure that enough information has been gathered \n",
    "\n",
    "5. **Log**:\n",
    "   - Records a summery\n",
    "\n",
    "6. **Return**:\n",
    "   - Returns the final output\n"
   ],
   "id": "377cdfc875817b11"
  },
  {
   "metadata": {},
   "cell_type": "markdown",
   "source": [
    "## Implementation\n",
    "\n",
    "To recreate the notebook and see the code implementation for this task, you can access the Google Colab notebook using the link below:\n",
    "\n",
    "<a target=\"_blank\" href=\"https://colab.research.google.com/github/DarkZelda11/julep/blob/dev/cookbooks/06-Designing_Multi-Step_Tasks.ipynb\">\n",
    "  <img src=\"https://colab.research.google.com/assets/colab-badge.svg\" alt=\"Open In Colab\"/>\n",
    "</a>\n",
    "\n",
    "\n",
    "To recreate the notebook and see the code implementation for this task, you can access the Google Colab notebook using the link below:\n",
    "\n",
    "\n",
    "\n",
    "### Additional Information\n",
    "\n",
    "For more details about the task or if you have any questions, please don't hesitate to contact the author:\n",
    "\n",
    "**Author:** Julep AI  \n",
    "**Contact:** [hey@julep.ai](mailto:hey@julep.ai) or  <a href=\"https://discord.com/invite/JTSBGRZrzj\" rel=\"dofollow\">Discord</a>\n",
    "\n"
   ],
   "id": "c4579e27983449f3"
  },
  {
   "metadata": {},
   "cell_type": "markdown",
   "source": "Installing the Julep Client",
   "id": "383b72b2bccbe0b5"
  },
  {
   "metadata": {
    "ExecuteTime": {
     "end_time": "2024-10-21T03:05:11.233836Z",
     "start_time": "2024-10-21T03:04:59.679034Z"
    }
   },
   "cell_type": "code",
   "source": "!pip install julep -U --quiet",
   "id": "6f1ca2b9a2fffd33",
   "outputs": [],
   "execution_count": 1
  },
  {
   "metadata": {},
   "cell_type": "markdown",
   "source": [
    "### Note:\n",
    "\n",
    "- UUIDs are generated for both the agent and task to uniquely identify them within the system.\n",
    "- Once created, these UUIDs should remain unchanged for simplicity.\n",
    "- Altering a UUID will result in the system treating it as a new agent or task.\n",
    "- If a UUID is changed, the original agent or task will continue to exist in the system alongside the new one."
   ],
   "id": "38afc6354aef06cc"
  },
  {
   "metadata": {
    "ExecuteTime": {
     "end_time": "2024-10-21T03:06:08.617445Z",
     "start_time": "2024-10-21T03:06:08.613099Z"
    }
   },
   "cell_type": "code",
   "source": [
    "# Global UUID is generated for agent and task\n",
    "import uuid\n",
    "\n",
    "AGENT_UUID = uuid.uuid4()\n",
    "TASK_UUID = uuid.uuid4() "
   ],
   "id": "65869bec8a248cec",
   "outputs": [],
   "execution_count": 2
  },
  {
   "metadata": {},
   "cell_type": "markdown",
   "source": "## Creating Julep Client with the API Key ",
   "id": "9a1722d17f8c4f46"
  },
  {
   "metadata": {
    "ExecuteTime": {
     "end_time": "2024-10-21T03:06:13.944068Z",
     "start_time": "2024-10-21T03:06:12.901795Z"
    }
   },
   "cell_type": "code",
   "source": [
    "from julep import Client\n",
    "\n",
    "api_key = \"\" # Your Api key here\n",
    "\n",
    "# Create a client\n",
    "client = Client(api_key=api_key, environment='dev')"
   ],
   "id": "20becc94c0ea20d6",
   "outputs": [],
   "execution_count": 3
  },
  {
   "metadata": {},
   "cell_type": "markdown",
   "source": [
    "## Creating an \"agent\"\n",
    "\n",
    "Agent is the object to which LLM settings, like model, temperature along with tools are scoped to.\n",
    "\n",
    "To learn more about the agent, please refer to the [documentation](https://github.com/julep-ai/julep/blob/dev/docs/julep-concepts.md#agent). "
   ],
   "id": "438df18ec13a90a7"
  },
  {
   "metadata": {
    "ExecuteTime": {
     "end_time": "2024-10-21T03:06:22.302954Z",
     "start_time": "2024-10-21T03:06:20.784603Z"
    }
   },
   "cell_type": "code",
   "source": [
    "# Defining the agent \n",
    "name = \"Jarvis\"\n",
    "about = \"The original AI conscious the Iron Man.\"\n",
    "default_settings = {\n",
    "    \"temperature\": 0.7,\n",
    "    \"top_p\": 1,\n",
    "    \"min_p\": 0.01,\n",
    "    \"presence_penalty\": 0,\n",
    "    \"frequency_penalty\": 0,\n",
    "    \"length_penalty\": 1.0,\n",
    "    \"max_tokens\": 150,\n",
    "}\n",
    "\n",
    "\n",
    "# Create the agent\n",
    "agent = client.agents.create_or_update(\n",
    "    agent_id=AGENT_UUID,\n",
    "    name=name,\n",
    "    about=about,\n",
    "    model=\"gpt-4o\",\n",
    ")\n",
    "\n",
    "# Add a web search tool to the client\n",
    "client.agents.tools.create(\n",
    "    agent_id=AGENT_UUID,\n",
    "    name=\"web_search\",\n",
    "    integration={\n",
    "        \"provider\": \"brave\",\n",
    "        \"method\": \"search\",\n",
    "        \"setup\": {\"api_key\": \"\"},\n",
    "    }, \n",
    ")"
   ],
   "id": "78b8bc80cafa4e00",
   "outputs": [
    {
     "data": {
      "text/plain": [
       "ResourceCreated(id='5cbd7ea8-e011-4189-a36e-98666bd44ba6', created_at=datetime.datetime(2024, 10, 21, 3, 6, 23, 982779, tzinfo=datetime.timezone.utc), jobs=[])"
      ]
     },
     "execution_count": 4,
     "metadata": {},
     "output_type": "execute_result"
    }
   ],
   "execution_count": 4
  },
  {
   "metadata": {},
   "cell_type": "markdown",
   "source": [
    "## Defining the task \n",
    "\n",
    "Tasks in Julep are GitHub Actions style workflows that define long-running, multistep actions.\n",
    "You can use them to conduct complex actions by defining them step-by-step. They have access to all Julep integrations.\n",
    "\n",
    "To learn more about tasks, visit [Julep documentation](https://github.com/julep-ai/julep/blob/dev/docs/julep-concepts.md#task)."
   ],
   "id": "c8645478a80adafe"
  },
  {
   "metadata": {
    "ExecuteTime": {
     "end_time": "2024-10-21T03:06:30.459790Z",
     "start_time": "2024-10-21T03:06:30.412359Z"
    }
   },
   "cell_type": "code",
   "source": "import yaml",
   "id": "bfed72921cd31757",
   "outputs": [],
   "execution_count": 5
  },
  {
   "metadata": {},
   "cell_type": "markdown",
   "source": "More on how to define a task can be found [here](https://github.com/julep-ai/julep/blob/dev/docs/julep-concepts.md).",
   "id": "5fe159f83a6672d7"
  },
  {
   "metadata": {
    "ExecuteTime": {
     "end_time": "2024-10-21T03:06:33.276191Z",
     "start_time": "2024-10-21T03:06:33.264364Z"
    }
   },
   "cell_type": "code",
   "source": [
    "# Defining a Task with various step types\n",
    "task_def = yaml.safe_load(\"\"\"\n",
    "name: Multi-Step Task Demonstration\n",
    "\n",
    "input_schema:\n",
    "  type: object\n",
    "  properties:\n",
    "    topic:\n",
    "      type: string\n",
    "      description: The topic to research and summarize.\n",
    "\n",
    "tools:\n",
    "  - name: web_search\n",
    "    type: integration\n",
    "    integration:\n",
    "      provider: brave\n",
    "      setup:\n",
    "        api_key: \"your_api_key\"\n",
    "\n",
    "main:\n",
    "  # Step 1: Prompt - Initial research question\n",
    "  - prompt:\n",
    "      - role: system\n",
    "        content: \"You are a research assistant. Your task is to formulate three specific research questions about the given topic: {{inputs[0].topic}}\"\n",
    "    unwrap: true\n",
    "\n",
    "  # Step 2: Tool Call - Web search for each question\n",
    "  - foreach:\n",
    "      in: _.split('\\\\n')\n",
    "      do:\n",
    "        tool: web_search\n",
    "        arguments:\n",
    "          query: _\n",
    "\n",
    "  # Step 3: Evaluate - Extract relevant information\n",
    "  - evaluate:\n",
    "      relevant_info: \"[output for output in _]\"\n",
    "\n",
    "  # Step 4: Conditional Logic - Check if enough information is gathered\n",
    "  - if: \"len(_.relevant_info) >= 3\"\n",
    "    then:\n",
    "      prompt:\n",
    "        - role: system\n",
    "          content: \"Summarize the following information about {{inputs[0].topic}}:\\n{{_.relevant_info}}\"\n",
    "      unwrap: true\n",
    "    else:\n",
    "      prompt:\n",
    "        - role: system\n",
    "          content: \"Not enough information gathered. Please provide a brief overview of {{inputs[0].topic}} based on your knowledge.\"\n",
    "      unwrap: true\n",
    "\n",
    "  # Step 5: Log - Record the summary\n",
    "  - log: \"Summary for {{inputs[0].topic}}: {{_}}\"\n",
    "\n",
    "  # Step 6: Return - Final output\n",
    "  - return: \n",
    "      summary: \"_\"\n",
    "      topic: \"inputs[0].topic\"\n",
    "\"\"\")"
   ],
   "id": "b927323eb9ad9455",
   "outputs": [],
   "execution_count": 6
  },
  {
   "metadata": {},
   "cell_type": "markdown",
   "source": "Creating/Updating a task.",
   "id": "2ed01573b35ff5f5"
  },
  {
   "metadata": {
    "ExecuteTime": {
     "end_time": "2024-10-21T03:06:37.958365Z",
     "start_time": "2024-10-21T03:06:37.333851Z"
    }
   },
   "cell_type": "code",
   "source": [
    "# Creating the task update\n",
    "task = client.tasks.create_or_update(\n",
    "    task_id=TASK_UUID,\n",
    "    agent_id=AGENT_UUID,\n",
    "    **task_def\n",
    ")"
   ],
   "id": "a364371bbfb79c59",
   "outputs": [],
   "execution_count": 7
  },
  {
   "metadata": {},
   "cell_type": "markdown",
   "source": [
    "## Creating an Execution\n",
    "\n",
    "An execution is a single run of a task. It is a way to run a task with a specific set of inputs."
   ],
   "id": "aaea5a4b947d4c52"
  },
  {
   "metadata": {},
   "cell_type": "markdown",
   "source": "Creates an execution workflow for the Task defined in the yaml file.",
   "id": "f3bef4459d1456ce"
  },
  {
   "metadata": {
    "ExecuteTime": {
     "end_time": "2024-10-21T03:06:41.678682Z",
     "start_time": "2024-10-21T03:06:40.744043Z"
    }
   },
   "cell_type": "code",
   "source": [
    "# Creating an Execution object\n",
    "execution = client.executions.create(\n",
    "    task_id=TASK_UUID,\n",
    "    input={\n",
    "        \"topic\": \"Artificial Intelligence in Healthcare\"\n",
    "    }\n",
    ")"
   ],
   "id": "235a94222177a281",
   "outputs": [],
   "execution_count": 8
  },
  {
   "metadata": {
    "ExecuteTime": {
     "end_time": "2024-10-21T03:06:45.065702Z",
     "start_time": "2024-10-21T03:06:43.743672Z"
    }
   },
   "cell_type": "code",
   "source": [
    "# Getting the execution details\n",
    "execution = client.executions.get(execution.id)\n",
    "# printing the output\n",
    "print(\"Execution Output:\")\n",
    "print(client.executions.transitions.list(execution_id=execution.id).items[0].output)"
   ],
   "id": "6db5bbb5ac0afd69",
   "outputs": [
    {
     "name": "stdout",
     "output_type": "stream",
     "text": [
      "Execution Output:\n",
      "1. How can artificial intelligence be utilized to improve diagnostic accuracy and reduce the time required for diagnosis in complex medical conditions, and what are the potential risks associated with its implementation?\n"
     ]
    }
   ],
   "execution_count": 9
  },
  {
   "metadata": {},
   "cell_type": "markdown",
   "source": "Retrieves and lists all the steps of a defined task that have been executed up to that point in time. Unlike streaming, this function does not continuously monitor the execution; it only provides a snapshot of the steps completed so far without displaying real-time updates as the task progresses.",
   "id": "c0ade2f9f882ea2d"
  },
  {
   "metadata": {
    "ExecuteTime": {
     "end_time": "2024-10-21T03:06:56.126088Z",
     "start_time": "2024-10-21T03:06:55.511925Z"
    }
   },
   "cell_type": "code",
   "source": "client.executions.transitions.list(execution_id=execution.id).items",
   "id": "f88a017f534a534",
   "outputs": [
    {
     "data": {
      "text/plain": [
       "[Transition(id='ceb5ea19-f097-40f0-b4f7-4adf6c528189', created_at=datetime.datetime(2024, 10, 21, 3, 6, 45, 243635, tzinfo=datetime.timezone.utc), current=Current(step=0, workflow='`main`[1].foreach[0]'), execution_id='87be42ee-e61c-41e8-a357-00b223abbc7a', next=Next(step=0, workflow='`main`[1].foreach[0]'), output='1. How can artificial intelligence be utilized to improve diagnostic accuracy and reduce the time required for diagnosis in complex medical conditions, and what are the potential risks associated with its implementation?', type='init_branch', updated_at=datetime.datetime(2024, 10, 21, 3, 6, 45, 243636, tzinfo=datetime.timezone.utc), metadata={}),\n",
       " Transition(id='24d4f197-1773-435a-88ee-92c5b3212e2d', created_at=datetime.datetime(2024, 10, 21, 3, 6, 44, 414316, tzinfo=datetime.timezone.utc), current=Current(step=0, workflow='main'), execution_id='87be42ee-e61c-41e8-a357-00b223abbc7a', next=Next(step=1, workflow='main'), output='1. How can artificial intelligence be utilized to improve diagnostic accuracy and reduce the time required for diagnosis in complex medical conditions, and what are the potential risks associated with its implementation?\\n\\n2. What are the ethical implications and challenges of integrating artificial intelligence into patient care, particularly in terms of patient privacy, data security, and informed consent?\\n\\n3. How does the use of artificial intelligence in healthcare impact the roles and responsibilities of healthcare professionals, and what are the necessary skills and training required to effectively collaborate with AI systems?', type='step', updated_at=datetime.datetime(2024, 10, 21, 3, 6, 44, 414317, tzinfo=datetime.timezone.utc), metadata={'step_type': 'PromptStep'}),\n",
       " Transition(id='a57d9fbe-fa58-4b91-bd8d-fab157527493', created_at=datetime.datetime(2024, 10, 21, 3, 6, 43, 925143, tzinfo=datetime.timezone.utc), current=Current(step=0, workflow='main'), execution_id='87be42ee-e61c-41e8-a357-00b223abbc7a', next=Next(step=0, workflow='main'), output={'topic': 'Artificial Intelligence in Healthcare'}, type='init', updated_at=datetime.datetime(2024, 10, 21, 3, 6, 43, 925143, tzinfo=datetime.timezone.utc), metadata={})]"
      ]
     },
     "execution_count": 10,
     "metadata": {},
     "output_type": "execute_result"
    }
   ],
   "execution_count": 10
  },
  {
   "metadata": {},
   "cell_type": "markdown",
   "source": "Continuously monitor and stream the steps of a defined task. It retrieves and displays the transitions or execution steps of the task identified by execution. id in real-time, showing each step sequentially until the task is either completed or an error causes it to terminate. ",
   "id": "4ccc44ac0d1c5cd"
  },
  {
   "metadata": {
    "ExecuteTime": {
     "end_time": "2024-10-21T03:06:59.912954Z",
     "start_time": "2024-10-21T03:06:59.577107Z"
    }
   },
   "cell_type": "code",
   "source": "client.executions.transitions.stream(execution_id=execution.id)",
   "id": "b5db855add8c418",
   "outputs": [
    {
     "data": {
      "text/plain": [
       "\"data: {'transition': {'type': 'init', 'output': {'topic': 'Artificial Intelligence in Healthcare'}, 'created_at': '2024-10-21T03:06:43.925143+00:00'}, 'next_page_token': 'CiQ0YWVhMjY5My0zNjk4LTRmMmYtOGNmNC1hOTk1ODdiOTY5ZjIQARgjMqsBeyJMYXN0RXZlbnRJRCI6OCwiU3RvcmVUb2tlbiI6ImV5Sk1ZWE4wVG05a1pVbEVJam8yTENKTVlYTjBWSGh1U1VRaU9qVTJOalU1T1RFNWZRPT0iLCJDdXJyZW50UmFuZ2VJbmRleCI6MCwiRmluYWxSYW5nZUluZGV4IjowLCJMYXN0Tm9kZUlEIjo2LCJMYXN0VHJhbnNhY3Rpb25JRCI6NTY2NTk5MTl9QkwKJDRhZWEyNjkzLTM2OTgtNGYyZi04Y2Y0LWE5OTU4N2I5NjlmMhIkNjNlMDhkYzUtMWM4Yy00MzkyLThkZTYtMWRiNTg3MzBlMmFjUgIIIg=='}\\r\\n\\r\\ndata: {'transition': {'type': 'step', 'output': '1. How can artificial intelligence be utilized to improve diagnostic accuracy and reduce the time required for diagnosis in complex medical conditions, and what are the potential risks associated with its implementation?\\\\n\\\\n2. What are the ethical implications and challenges of integrating artificial intelligence into patient care, particularly in terms of patient privacy, data security, and informed consent?\\\\n\\\\n3. How does the use of artificial intelligence in healthcare impact the roles and responsibilities of healthcare professionals, and what are the necessary skills and training required to effectively collaborate with AI systems?', 'created_at': '2024-10-21T03:06:44.414316+00:00'}, 'next_page_token': 'CiQ0YWVhMjY5My0zNjk4LTRmMmYtOGNmNC1hOTk1ODdiOTY5ZjIQARgjMq0BeyJMYXN0RXZlbnRJRCI6MjEsIlN0b3JlVG9rZW4iOiJleUpNWVhOMFRtOWtaVWxFSWpveE9Td2lUR0Z6ZEZSNGJrbEVJam8xTmpZMU9UazFOSDA9IiwiQ3VycmVudFJhbmdlSW5kZXgiOjAsIkZpbmFsUmFuZ2VJbmRleCI6MCwiTGFzdE5vZGVJRCI6MTksIkxhc3RUcmFuc2FjdGlvbklEIjo1NjY1OTk1NH1CTAokNGFlYTI2OTMtMzY5OC00ZjJmLThjZjQtYTk5NTg3Yjk2OWYyEiQ2M2UwOGRjNS0xYzhjLTQzOTItOGRlNi0xZGI1ODczMGUyYWNSAggi'}\\r\\n\\r\\n\""
      ]
     },
     "execution_count": 11,
     "metadata": {},
     "output_type": "execute_result"
    }
   ],
   "execution_count": 11
  },
  {
   "metadata": {},
   "cell_type": "code",
   "outputs": [],
   "execution_count": null,
   "source": "",
   "id": "3d630922bb3336b6"
  }
 ],
 "metadata": {
  "kernelspec": {
   "display_name": "Python 3",
   "language": "python",
   "name": "python3"
  },
  "language_info": {
   "codemirror_mode": {
    "name": "ipython",
    "version": 2
   },
   "file_extension": ".py",
   "mimetype": "text/x-python",
   "name": "python",
   "nbconvert_exporter": "python",
   "pygments_lexer": "ipython2",
   "version": "2.7.6"
  }
 },
 "nbformat": 4,
 "nbformat_minor": 5
}
